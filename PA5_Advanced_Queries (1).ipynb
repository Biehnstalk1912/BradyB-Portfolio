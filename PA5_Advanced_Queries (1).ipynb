{
  "nbformat": 4,
  "nbformat_minor": 0,
  "metadata": {
    "colab": {
      "provenance": []
    },
    "kernelspec": {
      "name": "python3",
      "display_name": "Python 3"
    },
    "language_info": {
      "name": "python"
    }
  },
  "cells": [
    {
      "cell_type": "markdown",
      "source": [
        "The source for this data is the Chadwick Baseball Bureau, and the entire data bank can be found here: https://github.com/chadwickbureau/baseballdatabank.\n"
      ],
      "metadata": {
        "id": "foIEBQmh6i6u"
      }
    },
    {
      "cell_type": "code",
      "execution_count": null,
      "metadata": {
        "id": "qbhgJfnG6b4j"
      },
      "outputs": [],
      "source": [
        "import os\n",
        "\n",
        "assert os.path.exists('baseball.db')"
      ]
    },
    {
      "cell_type": "code",
      "source": [
        "%load_ext sql\n",
        "%sql sqlite:////content/baseball.db"
      ],
      "metadata": {
        "id": "nifEA-U9Ei3l"
      },
      "execution_count": null,
      "outputs": []
    },
    {
      "cell_type": "markdown",
      "source": [
        "Here is the schema for `baseball.db`:\n",
        "\n",
        "appearances\n",
        "   (\n",
        "   yearID: int,\n",
        "   teamID: varchar(8),\n",
        "   playerID: varchar(20),\n",
        "   games_played: int\n",
        "   )\n",
        "\n",
        "parks\n",
        "   (\n",
        "   parkID: varchar(8),\n",
        "   name: varchar(200),\n",
        "   city: varchar(200),\n",
        "   state: varchar(20),\n",
        "   country: varchar(20)\n",
        "   )\n",
        "\n",
        "players\n",
        "   (\n",
        "   playerID: varchar(20),\n",
        "   nameFirst: varchar(200),\n",
        "   nameLast: varchar(200),\n",
        "   weight: int,\n",
        "   height: int\n",
        "   )\n",
        "\n",
        "teams\n",
        "   (\n",
        "   yearID: int,\n",
        "   teamID: varchar(20),\n",
        "   wins: int,\n",
        "   losses: int,\n",
        "   name: varchar(200),\n",
        "   park: varchar(200)\n",
        "   )\n",
        "\n",
        "If you have any questions about what these mean, we recommend that you try referencing the source of the data, linked above."
      ],
      "metadata": {
        "id": "9NSNWeiHFhzI"
      }
    },
    {
      "cell_type": "code",
      "source": [
        "%%sql\n",
        "-- To Find all teams that have had their park in Illinois\n",
        "SELECT DISTINCT t.name AS \"Team Name\", p.name AS \"Park Name\", p.city AS \"City\"\n",
        "FROM teams t\n",
        "JOIN parks p ON t.park = p.name\n",
        "WHERE state = \"IL\""
      ],
      "metadata": {
        "id": "cOMiRloL-DEJ",
        "colab": {
          "base_uri": "https://localhost:8080/",
          "height": 263
        },
        "outputId": "cf9e1d76-9183-409e-d712-6bf5e1005308"
      },
      "execution_count": null,
      "outputs": [
        {
          "output_type": "stream",
          "name": "stdout",
          "text": [
            " * sqlite:////content/baseball.db\n",
            "Done.\n"
          ]
        },
        {
          "output_type": "execute_result",
          "data": {
            "text/plain": [
              "[('Chicago White Stockings', 'Lake Front Park I', 'Chicago'),\n",
              " ('Chicago White Stockings', 'Lake Front Park II', 'Chicago'),\n",
              " ('Chicago Colts', 'South Side Park I', 'Chicago'),\n",
              " ('Chicago White Sox', 'South Side Park II', 'Chicago'),\n",
              " ('Chicago Chi-Feds', 'Wrigley Field', 'Chicago'),\n",
              " ('Chicago Cubs', 'Wrigley Field', 'Chicago'),\n",
              " ('Chicago Whales', 'Wrigley Field', 'Chicago'),\n",
              " ('Chicago White Sox', 'Guaranteed Rate Field', 'Chicago'),\n",
              " ('Rockford Forest Citys', 'Agricultural Society Fair Grounds', 'Rockford')]"
            ],
            "text/html": [
              "<table>\n",
              "    <thead>\n",
              "        <tr>\n",
              "            <th>Team Name</th>\n",
              "            <th>Park Name</th>\n",
              "            <th>City</th>\n",
              "        </tr>\n",
              "    </thead>\n",
              "    <tbody>\n",
              "        <tr>\n",
              "            <td>Chicago White Stockings</td>\n",
              "            <td>Lake Front Park I</td>\n",
              "            <td>Chicago</td>\n",
              "        </tr>\n",
              "        <tr>\n",
              "            <td>Chicago White Stockings</td>\n",
              "            <td>Lake Front Park II</td>\n",
              "            <td>Chicago</td>\n",
              "        </tr>\n",
              "        <tr>\n",
              "            <td>Chicago Colts</td>\n",
              "            <td>South Side Park I</td>\n",
              "            <td>Chicago</td>\n",
              "        </tr>\n",
              "        <tr>\n",
              "            <td>Chicago White Sox</td>\n",
              "            <td>South Side Park II</td>\n",
              "            <td>Chicago</td>\n",
              "        </tr>\n",
              "        <tr>\n",
              "            <td>Chicago Chi-Feds</td>\n",
              "            <td>Wrigley Field</td>\n",
              "            <td>Chicago</td>\n",
              "        </tr>\n",
              "        <tr>\n",
              "            <td>Chicago Cubs</td>\n",
              "            <td>Wrigley Field</td>\n",
              "            <td>Chicago</td>\n",
              "        </tr>\n",
              "        <tr>\n",
              "            <td>Chicago Whales</td>\n",
              "            <td>Wrigley Field</td>\n",
              "            <td>Chicago</td>\n",
              "        </tr>\n",
              "        <tr>\n",
              "            <td>Chicago White Sox</td>\n",
              "            <td>Guaranteed Rate Field</td>\n",
              "            <td>Chicago</td>\n",
              "        </tr>\n",
              "        <tr>\n",
              "            <td>Rockford Forest Citys</td>\n",
              "            <td>Agricultural Society Fair Grounds</td>\n",
              "            <td>Rockford</td>\n",
              "        </tr>\n",
              "    </tbody>\n",
              "</table>"
            ]
          },
          "metadata": {},
          "execution_count": 9
        }
      ]
    },
    {
      "cell_type": "code",
      "source": [
        "%%sql\n",
        "-- To find the shortest MLB player\n",
        "SELECT nameFirst AS \"First Name\", nameLast AS \"Last Name\"\n",
        "FROM players\n",
        "WHERE height IN (SELECT min(height) FROM players)"
      ],
      "metadata": {
        "id": "RXGONIlBHRqw",
        "colab": {
          "base_uri": "https://localhost:8080/",
          "height": 95
        },
        "outputId": "c5381439-88fe-4a66-834d-1ad7778bc404"
      },
      "execution_count": null,
      "outputs": [
        {
          "output_type": "stream",
          "name": "stdout",
          "text": [
            " * sqlite:////content/baseball.db\n",
            "Done.\n"
          ]
        },
        {
          "output_type": "execute_result",
          "data": {
            "text/plain": [
              "[('Eddie', 'Gaedel')]"
            ],
            "text/html": [
              "<table>\n",
              "    <thead>\n",
              "        <tr>\n",
              "            <th>First Name</th>\n",
              "            <th>Last Name</th>\n",
              "        </tr>\n",
              "    </thead>\n",
              "    <tbody>\n",
              "        <tr>\n",
              "            <td>Eddie</td>\n",
              "            <td>Gaedel</td>\n",
              "        </tr>\n",
              "    </tbody>\n",
              "</table>"
            ]
          },
          "metadata": {},
          "execution_count": 10
        }
      ]
    },
    {
      "cell_type": "code",
      "source": [
        "%%sql\n",
        "-- To Find the total wins from the Minnesota Twins\n",
        "SELECT sum(wins) AS \"Total Wins\"\n",
        "FROM teams\n",
        "WHERE teamId = \"MIN\";\n"
      ],
      "metadata": {
        "id": "pCRNhQMaKRE6",
        "colab": {
          "base_uri": "https://localhost:8080/",
          "height": 95
        },
        "outputId": "607ee657-90a4-4943-c6f3-cac3efc7ae45"
      },
      "execution_count": null,
      "outputs": [
        {
          "output_type": "stream",
          "name": "stdout",
          "text": [
            " * sqlite:////content/baseball.db\n",
            "Done.\n"
          ]
        },
        {
          "output_type": "execute_result",
          "data": {
            "text/plain": [
              "[(4789,)]"
            ],
            "text/html": [
              "<table>\n",
              "    <thead>\n",
              "        <tr>\n",
              "            <th>Total Wins</th>\n",
              "        </tr>\n",
              "    </thead>\n",
              "    <tbody>\n",
              "        <tr>\n",
              "            <td>4789</td>\n",
              "        </tr>\n",
              "    </tbody>\n",
              "</table>"
            ]
          },
          "metadata": {},
          "execution_count": 11
        }
      ]
    },
    {
      "cell_type": "code",
      "source": [
        "%%sql\n",
        "-- To find the entire roster of the 1987 world series champion Minnesota Twins\n",
        "SELECT nameFirst AS \"First Name\", nameLast AS \"Last Name\"\n",
        "FROM appearances app\n",
        "LEFT JOIN players p ON (app.playerId = p.playerId)\n",
        "WHERE teamId = \"MIN\" AND yearID = 1987"
      ],
      "metadata": {
        "id": "O8_HeuPPRcgg",
        "colab": {
          "base_uri": "https://localhost:8080/",
          "height": 828
        },
        "outputId": "f2a468b9-eff8-4e04-823b-bb9cabe72fa1"
      },
      "execution_count": null,
      "outputs": [
        {
          "output_type": "stream",
          "name": "stdout",
          "text": [
            " * sqlite:////content/baseball.db\n",
            "Done.\n"
          ]
        },
        {
          "output_type": "execute_result",
          "data": {
            "text/plain": [
              "[('Allan', 'Anderson'),\n",
              " ('Keith', 'Atherton'),\n",
              " ('Don', 'Baylor'),\n",
              " ('Billy', 'Beane'),\n",
              " ('Juan', 'Berenguer'),\n",
              " ('Jeff', 'Bittiger'),\n",
              " ('Bert', 'Blyleven'),\n",
              " ('Tom', 'Brunansky'),\n",
              " ('Randy', 'Bush'),\n",
              " ('Sal', 'Butera'),\n",
              " ('Steve', 'Carlton'),\n",
              " ('Mark', 'Davidson'),\n",
              " ('George', 'Frazier'),\n",
              " ('Gary', 'Gaetti'),\n",
              " ('Greg', 'Gagne'),\n",
              " ('Dan', 'Gladden'),\n",
              " ('Kent', 'Hrbek'),\n",
              " ('Joe', 'Klink'),\n",
              " ('Gene', 'Larkin'),\n",
              " ('Tim', 'Laudner'),\n",
              " ('Steve', 'Lombardozzi'),\n",
              " ('Al', 'Newman'),\n",
              " ('Joe', 'Niekro'),\n",
              " ('Randy', 'Niemann'),\n",
              " ('Tom', 'Nieto'),\n",
              " ('Chris', 'Pittaro'),\n",
              " ('Mark', 'Portugal'),\n",
              " ('Kirby', 'Puckett'),\n",
              " ('Jeff', 'Reardon'),\n",
              " ('Mark', 'Salas'),\n",
              " ('Dan', 'Schatzeder'),\n",
              " ('Roy', 'Smalley'),\n",
              " ('Mike', 'Smithson'),\n",
              " ('Roy', 'Smith'),\n",
              " ('Les', 'Straker'),\n",
              " ('Frank', 'Viola')]"
            ],
            "text/html": [
              "<table>\n",
              "    <thead>\n",
              "        <tr>\n",
              "            <th>First Name</th>\n",
              "            <th>Last Name</th>\n",
              "        </tr>\n",
              "    </thead>\n",
              "    <tbody>\n",
              "        <tr>\n",
              "            <td>Allan</td>\n",
              "            <td>Anderson</td>\n",
              "        </tr>\n",
              "        <tr>\n",
              "            <td>Keith</td>\n",
              "            <td>Atherton</td>\n",
              "        </tr>\n",
              "        <tr>\n",
              "            <td>Don</td>\n",
              "            <td>Baylor</td>\n",
              "        </tr>\n",
              "        <tr>\n",
              "            <td>Billy</td>\n",
              "            <td>Beane</td>\n",
              "        </tr>\n",
              "        <tr>\n",
              "            <td>Juan</td>\n",
              "            <td>Berenguer</td>\n",
              "        </tr>\n",
              "        <tr>\n",
              "            <td>Jeff</td>\n",
              "            <td>Bittiger</td>\n",
              "        </tr>\n",
              "        <tr>\n",
              "            <td>Bert</td>\n",
              "            <td>Blyleven</td>\n",
              "        </tr>\n",
              "        <tr>\n",
              "            <td>Tom</td>\n",
              "            <td>Brunansky</td>\n",
              "        </tr>\n",
              "        <tr>\n",
              "            <td>Randy</td>\n",
              "            <td>Bush</td>\n",
              "        </tr>\n",
              "        <tr>\n",
              "            <td>Sal</td>\n",
              "            <td>Butera</td>\n",
              "        </tr>\n",
              "        <tr>\n",
              "            <td>Steve</td>\n",
              "            <td>Carlton</td>\n",
              "        </tr>\n",
              "        <tr>\n",
              "            <td>Mark</td>\n",
              "            <td>Davidson</td>\n",
              "        </tr>\n",
              "        <tr>\n",
              "            <td>George</td>\n",
              "            <td>Frazier</td>\n",
              "        </tr>\n",
              "        <tr>\n",
              "            <td>Gary</td>\n",
              "            <td>Gaetti</td>\n",
              "        </tr>\n",
              "        <tr>\n",
              "            <td>Greg</td>\n",
              "            <td>Gagne</td>\n",
              "        </tr>\n",
              "        <tr>\n",
              "            <td>Dan</td>\n",
              "            <td>Gladden</td>\n",
              "        </tr>\n",
              "        <tr>\n",
              "            <td>Kent</td>\n",
              "            <td>Hrbek</td>\n",
              "        </tr>\n",
              "        <tr>\n",
              "            <td>Joe</td>\n",
              "            <td>Klink</td>\n",
              "        </tr>\n",
              "        <tr>\n",
              "            <td>Gene</td>\n",
              "            <td>Larkin</td>\n",
              "        </tr>\n",
              "        <tr>\n",
              "            <td>Tim</td>\n",
              "            <td>Laudner</td>\n",
              "        </tr>\n",
              "        <tr>\n",
              "            <td>Steve</td>\n",
              "            <td>Lombardozzi</td>\n",
              "        </tr>\n",
              "        <tr>\n",
              "            <td>Al</td>\n",
              "            <td>Newman</td>\n",
              "        </tr>\n",
              "        <tr>\n",
              "            <td>Joe</td>\n",
              "            <td>Niekro</td>\n",
              "        </tr>\n",
              "        <tr>\n",
              "            <td>Randy</td>\n",
              "            <td>Niemann</td>\n",
              "        </tr>\n",
              "        <tr>\n",
              "            <td>Tom</td>\n",
              "            <td>Nieto</td>\n",
              "        </tr>\n",
              "        <tr>\n",
              "            <td>Chris</td>\n",
              "            <td>Pittaro</td>\n",
              "        </tr>\n",
              "        <tr>\n",
              "            <td>Mark</td>\n",
              "            <td>Portugal</td>\n",
              "        </tr>\n",
              "        <tr>\n",
              "            <td>Kirby</td>\n",
              "            <td>Puckett</td>\n",
              "        </tr>\n",
              "        <tr>\n",
              "            <td>Jeff</td>\n",
              "            <td>Reardon</td>\n",
              "        </tr>\n",
              "        <tr>\n",
              "            <td>Mark</td>\n",
              "            <td>Salas</td>\n",
              "        </tr>\n",
              "        <tr>\n",
              "            <td>Dan</td>\n",
              "            <td>Schatzeder</td>\n",
              "        </tr>\n",
              "        <tr>\n",
              "            <td>Roy</td>\n",
              "            <td>Smalley</td>\n",
              "        </tr>\n",
              "        <tr>\n",
              "            <td>Mike</td>\n",
              "            <td>Smithson</td>\n",
              "        </tr>\n",
              "        <tr>\n",
              "            <td>Roy</td>\n",
              "            <td>Smith</td>\n",
              "        </tr>\n",
              "        <tr>\n",
              "            <td>Les</td>\n",
              "            <td>Straker</td>\n",
              "        </tr>\n",
              "        <tr>\n",
              "            <td>Frank</td>\n",
              "            <td>Viola</td>\n",
              "        </tr>\n",
              "    </tbody>\n",
              "</table>"
            ]
          },
          "metadata": {},
          "execution_count": 12
        }
      ]
    },
    {
      "cell_type": "code",
      "source": [
        "%%sql\n",
        "-- To Find the total number of parks that have ever been in each state\n",
        "SELECT state, count(state) AS \"Number of Parks\"\n",
        "FROM parks\n",
        "GROUP BY state"
      ],
      "metadata": {
        "id": "UD40omaZNQkt",
        "colab": {
          "base_uri": "https://localhost:8080/",
          "height": 870
        },
        "outputId": "4e6b6510-6ac0-4f24-c3bd-24f56106c08f"
      },
      "execution_count": null,
      "outputs": [
        {
          "output_type": "stream",
          "name": "stdout",
          "text": [
            " * sqlite:////content/baseball.db\n",
            "Done.\n"
          ]
        },
        {
          "output_type": "execute_result",
          "data": {
            "text/plain": [
              "[('', 1),\n",
              " ('AZ', 1),\n",
              " ('CA', 10),\n",
              " ('CO', 2),\n",
              " ('CT', 5),\n",
              " ('DC', 11),\n",
              " ('DE', 2),\n",
              " ('ENG', 1),\n",
              " ('FL', 4),\n",
              " ('GA', 3),\n",
              " ('HI', 1),\n",
              " ('IA', 1),\n",
              " ('IL', 12),\n",
              " ('IN', 9),\n",
              " ('KY', 6),\n",
              " ('MA', 12),\n",
              " ('MD', 11),\n",
              " ('MI', 6),\n",
              " ('MN', 4),\n",
              " ('MO', 16),\n",
              " ('NC', 1),\n",
              " ('NE', 1),\n",
              " ('NJ', 10),\n",
              " ('NV', 1),\n",
              " ('NY', 40),\n",
              " ('New South Wales', 1),\n",
              " ('Nuevo Leon', 1),\n",
              " ('OH', 33),\n",
              " ('ON', 2),\n",
              " ('PA', 24),\n",
              " ('QC', 2),\n",
              " ('RI', 3),\n",
              " ('TX', 5),\n",
              " ('Tokyo', 1),\n",
              " ('VA', 2),\n",
              " ('WA', 3),\n",
              " ('WI', 6),\n",
              " ('WV', 1)]"
            ],
            "text/html": [
              "<table>\n",
              "    <thead>\n",
              "        <tr>\n",
              "            <th>state</th>\n",
              "            <th>Number of Parks</th>\n",
              "        </tr>\n",
              "    </thead>\n",
              "    <tbody>\n",
              "        <tr>\n",
              "            <td></td>\n",
              "            <td>1</td>\n",
              "        </tr>\n",
              "        <tr>\n",
              "            <td>AZ</td>\n",
              "            <td>1</td>\n",
              "        </tr>\n",
              "        <tr>\n",
              "            <td>CA</td>\n",
              "            <td>10</td>\n",
              "        </tr>\n",
              "        <tr>\n",
              "            <td>CO</td>\n",
              "            <td>2</td>\n",
              "        </tr>\n",
              "        <tr>\n",
              "            <td>CT</td>\n",
              "            <td>5</td>\n",
              "        </tr>\n",
              "        <tr>\n",
              "            <td>DC</td>\n",
              "            <td>11</td>\n",
              "        </tr>\n",
              "        <tr>\n",
              "            <td>DE</td>\n",
              "            <td>2</td>\n",
              "        </tr>\n",
              "        <tr>\n",
              "            <td>ENG</td>\n",
              "            <td>1</td>\n",
              "        </tr>\n",
              "        <tr>\n",
              "            <td>FL</td>\n",
              "            <td>4</td>\n",
              "        </tr>\n",
              "        <tr>\n",
              "            <td>GA</td>\n",
              "            <td>3</td>\n",
              "        </tr>\n",
              "        <tr>\n",
              "            <td>HI</td>\n",
              "            <td>1</td>\n",
              "        </tr>\n",
              "        <tr>\n",
              "            <td>IA</td>\n",
              "            <td>1</td>\n",
              "        </tr>\n",
              "        <tr>\n",
              "            <td>IL</td>\n",
              "            <td>12</td>\n",
              "        </tr>\n",
              "        <tr>\n",
              "            <td>IN</td>\n",
              "            <td>9</td>\n",
              "        </tr>\n",
              "        <tr>\n",
              "            <td>KY</td>\n",
              "            <td>6</td>\n",
              "        </tr>\n",
              "        <tr>\n",
              "            <td>MA</td>\n",
              "            <td>12</td>\n",
              "        </tr>\n",
              "        <tr>\n",
              "            <td>MD</td>\n",
              "            <td>11</td>\n",
              "        </tr>\n",
              "        <tr>\n",
              "            <td>MI</td>\n",
              "            <td>6</td>\n",
              "        </tr>\n",
              "        <tr>\n",
              "            <td>MN</td>\n",
              "            <td>4</td>\n",
              "        </tr>\n",
              "        <tr>\n",
              "            <td>MO</td>\n",
              "            <td>16</td>\n",
              "        </tr>\n",
              "        <tr>\n",
              "            <td>NC</td>\n",
              "            <td>1</td>\n",
              "        </tr>\n",
              "        <tr>\n",
              "            <td>NE</td>\n",
              "            <td>1</td>\n",
              "        </tr>\n",
              "        <tr>\n",
              "            <td>NJ</td>\n",
              "            <td>10</td>\n",
              "        </tr>\n",
              "        <tr>\n",
              "            <td>NV</td>\n",
              "            <td>1</td>\n",
              "        </tr>\n",
              "        <tr>\n",
              "            <td>NY</td>\n",
              "            <td>40</td>\n",
              "        </tr>\n",
              "        <tr>\n",
              "            <td>New South Wales</td>\n",
              "            <td>1</td>\n",
              "        </tr>\n",
              "        <tr>\n",
              "            <td>Nuevo Leon</td>\n",
              "            <td>1</td>\n",
              "        </tr>\n",
              "        <tr>\n",
              "            <td>OH</td>\n",
              "            <td>33</td>\n",
              "        </tr>\n",
              "        <tr>\n",
              "            <td>ON</td>\n",
              "            <td>2</td>\n",
              "        </tr>\n",
              "        <tr>\n",
              "            <td>PA</td>\n",
              "            <td>24</td>\n",
              "        </tr>\n",
              "        <tr>\n",
              "            <td>QC</td>\n",
              "            <td>2</td>\n",
              "        </tr>\n",
              "        <tr>\n",
              "            <td>RI</td>\n",
              "            <td>3</td>\n",
              "        </tr>\n",
              "        <tr>\n",
              "            <td>TX</td>\n",
              "            <td>5</td>\n",
              "        </tr>\n",
              "        <tr>\n",
              "            <td>Tokyo</td>\n",
              "            <td>1</td>\n",
              "        </tr>\n",
              "        <tr>\n",
              "            <td>VA</td>\n",
              "            <td>2</td>\n",
              "        </tr>\n",
              "        <tr>\n",
              "            <td>WA</td>\n",
              "            <td>3</td>\n",
              "        </tr>\n",
              "        <tr>\n",
              "            <td>WI</td>\n",
              "            <td>6</td>\n",
              "        </tr>\n",
              "        <tr>\n",
              "            <td>WV</td>\n",
              "            <td>1</td>\n",
              "        </tr>\n",
              "    </tbody>\n",
              "</table>"
            ]
          },
          "metadata": {},
          "execution_count": 13
        }
      ]
    },
    {
      "cell_type": "code",
      "source": [
        "%%sql\n",
        "-- To find franchises with more than 10,000 total wins.\n",
        "SELECT name AS \"Franchise\", SUM(wins) AS \"Amount of Wins\"\n",
        "FROM teams\n",
        "GROUP BY teamID\n",
        "HAVING SUM(wins) > 10000"
      ],
      "metadata": {
        "id": "qcz-oiRSMgPB"
      },
      "execution_count": null,
      "outputs": []
    },
    {
      "cell_type": "code",
      "source": [
        "%%sql\n",
        "-- To find players that have played for more than four or more different teams in the same year\n",
        "SELECT nameFirst as \"First Name\", nameLast AS \"Last Name\"\n",
        "FROM players p\n",
        "JOIN (\n",
        "  SELECT *\n",
        "  FROM appearances\n",
        "  GROUP BY playerID, yearID\n",
        "  HAVING COUNT(DISTINCT teamID) >= 4\n",
        ") AS \"app\"\n",
        "ON p.playerID = app.playerID\n"
      ],
      "metadata": {
        "id": "ZRP5nSV7NOT2"
      },
      "execution_count": null,
      "outputs": []
    },
    {
      "cell_type": "code",
      "source": [
        "%%sql\n",
        "-- To find the complete roster of every team in the first year of the MLB\n",
        "SELECT DISTINCT t.name AS \"Team\", c.nameFirst AS \"First Name\", c.nameLast AS \"Last Name\"\n",
        "FROM teams t\n",
        "JOIN (\n",
        "  SELECT teamId, nameFirst, nameLast\n",
        "  FROM Appearances app\n",
        "  INNER JOIN Players p ON app.playerID = p.playerID\n",
        "  where yearID = (SELECT min(yearID) FROM Appearances)) as c\n",
        "ON (t.teamID = c.teamID)\n"
      ],
      "metadata": {
        "id": "zDvaY7hvNmCW"
      },
      "execution_count": null,
      "outputs": []
    },
    {
      "cell_type": "code",
      "source": [
        "%%sql\n",
        "-- To find every player who has played 25 or more years in the MLB\n",
        "SELECT DISTINCT nameFirst AS \"First Name\", nameLast AS \"Last Name\", \"Total Years Played\"\n",
        "FROM players p\n",
        "JOIN(\n",
        "  SELECT DISTINCT playerID, count(DISTINCT yearID) AS \"Total Years Played\"\n",
        "  FROM appearances\n",
        "  GROUP BY playerID\n",
        "  HAVING count(DISTINCT yearID) >= 25\n",
        ") AS \"total_years\"\n",
        "ON p.playerID = total_years.playerID\n"
      ],
      "metadata": {
        "id": "rAAwipL_1Coa"
      },
      "execution_count": null,
      "outputs": []
    },
    {
      "cell_type": "code",
      "source": [
        "%%sql\n",
        "-- To find the total number of teamamtes that Kirby Puckett had\n",
        "SELECT count(playerID) AS \"Kirby Puckett's Total Teammates\"\n",
        "FROM (\n",
        "  SELECT DISTINCT (appearances.playerid)  FROM appearances\n",
        "  INNER JOIN(\n",
        "    SELECT app.teamid, app.yearid FROM appearances app\n",
        "    LEFT JOIN players p ON app.playerid = p.playerid\n",
        "    WHERE p.nameFirst = \"Kirby\" AND p.nameLast = \"Puckett\"\n",
        "  ) AS \"b\"\n",
        "  ON b.teamId = appearances.teamId AND b.yearId = appearances.yearId\n",
        "\n",
        "\n",
        ")\n"
      ],
      "metadata": {
        "id": "didl7MUyGaqu"
      },
      "execution_count": null,
      "outputs": []
    }
  ]
}